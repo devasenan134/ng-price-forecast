{
 "cells": [
  {
   "cell_type": "code",
   "execution_count": 12,
   "metadata": {},
   "outputs": [],
   "source": [
    "import pandas as pd\n",
    "import numpy as np\n",
    "from datetime import date\n",
    "from datetime import datetime\n",
    "from selenium import webdriver\n",
    "from bs4 import BeautifulSoup\n",
    "import urllib3\n",
    "from requests import get\n",
    "import time\n",
    "import re\n",
    "import os\n",
    "import math\n",
    "\n",
    "pd.options.display.max_rows = 8"
   ]
  },
  {
   "cell_type": "code",
   "execution_count": 8,
   "metadata": {},
   "outputs": [
    {
     "name": "stderr",
     "output_type": "stream",
     "text": [
      "<ipython-input-8-669837d84f0e>:8: DeprecationWarning: executable_path has been deprecated, please pass in a Service object\n",
      "  driver = webdriver.Edge(executable_path=r'C:/Users/devas/Downloads/edgedriver_win64/msedgedriver.exe')\n"
     ]
    }
   ],
   "source": [
    "#write url based on current time\n",
    "url = \"https://www.cmegroup.com/CmeWS/mvc/Quotes/Future/425/G?pageSize=50&_=\"\n",
    "urlext = np.round(time.time(), decimals=0)\n",
    "urlext = str(urlext)\n",
    "url = url + urlext\n",
    "\n",
    "# create a new Firefox session\n",
    "driver = webdriver.Edge(executable_path=r'C:/Users/devas/Downloads/edgedriver_win64/msedgedriver.exe')\n",
    "driver.get(url)\n",
    "soup = BeautifulSoup(url)\n",
    "\n",
    "#scrape site source page\n",
    "urltext = soup.findAll(text=True)\n",
    "urltext = driver.current_url\n",
    "httptext = urllib3.PoolManager()\n",
    "responsetext = httptext.request('GET', urltext)\n",
    "\n",
    "#close browser\n",
    "driver.close()\n",
    "\n",
    "#convert BeautifulSoup object to text\n",
    "souptext = BeautifulSoup(responsetext.data)\n",
    "souptext2 = str(souptext)"
   ]
  },
  {
   "cell_type": "code",
   "execution_count": 9,
   "metadata": {},
   "outputs": [
    {
     "data": {
      "text/plain": [
       "'<html><head>\\n<title>Access Denied</title>\\n</head><body>\\n<h1>Access Denied</h1>\\n \\nYou don\\'t have permission to access \"http://www.cmegroup.com/CmeWS/mvc/Quotes/Future/425/G?\" on this server.<p>\\nReference #18.6de83217.1650548076.18e8599b\\n</p></body>\\n</html>\\n'"
      ]
     },
     "execution_count": 9,
     "metadata": {},
     "output_type": "execute_result"
    }
   ],
   "source": [
    "souptext2"
   ]
  },
  {
   "cell_type": "code",
   "execution_count": 15,
   "metadata": {},
   "outputs": [],
   "source": [
    "#create lists for pricing and dates\n",
    "settlePri = []\n",
    "settleDate = []\n",
    "\n",
    "#state the patterns to search on within raw data\n",
    "pricetxt2 = '\"priorSettle\":\"\\d+.\\d\\d\"'\n",
    "pricetxt3 = '\"priorSettle\":\"-\"'\n",
    "\n",
    "#find the above patterns in the text and append them to their corresponding lists from above\n",
    "p = re.compile(\"(%s|%s)\" % (pricetxt2, pricetxt3)).findall(souptext2) \n",
    "d = re.findall('\"expirationDate\":\"\\d{8}\"', souptext2)\n",
    "if p:\n",
    "    settlePri.append(p)\n",
    "if d:\n",
    "    settleDate.append(d)\n",
    "\n",
    "#combine those two lists\n",
    "pricelist = {'Date':d,'Oil_Price':p}\n",
    "\n",
    "#convert to dataframe\n",
    "pricelist = pd.DataFrame(pricelist)\n",
    "\n",
    "#remove unnecessary text, format numbers and dates, remove non-numeric price place holders from web site\n",
    "pricelist['Date'] = pricelist['Date'].map(lambda x: x.replace('\"expirationDate\":\"', \"\"))\n",
    "pricelist['Date'] = [datetime(year=int(x[0:4]), month=int(x[4:6]), day=int(x[6:8])) for x in pricelist['Date']]\n",
    "# pricelist['Month'] = pricelist['Date'].dt.month.astype(int)\n",
    "# pricelist['Year'] = pricelist['Date'].dt.year.astype(int)\n",
    "pricelist['Oil_Price'] = pricelist['Oil_Price'].map(lambda x: x.replace('\"priorSettle\":\"', \"\").rstrip('\"'))\n",
    "pricelist['Oil_Price'] = pricelist['Oil_Price'].replace('-', '0.00')\n",
    "pricelist['Oil_Price'] = pricelist['Oil_Price'].astype(float)\n",
    "\n",
    "#final dataframe\n",
    "# pricelist = pricelist[['Year', 'Month', 'Oil_Price']]\n",
    "pricelist = pricelist[['Date', 'Oil_Price']]"
   ]
  },
  {
   "cell_type": "code",
   "execution_count": 16,
   "metadata": {},
   "outputs": [
    {
     "data": {
      "text/html": [
       "<div>\n",
       "<style scoped>\n",
       "    .dataframe tbody tr th:only-of-type {\n",
       "        vertical-align: middle;\n",
       "    }\n",
       "\n",
       "    .dataframe tbody tr th {\n",
       "        vertical-align: top;\n",
       "    }\n",
       "\n",
       "    .dataframe thead th {\n",
       "        text-align: right;\n",
       "    }\n",
       "</style>\n",
       "<table border=\"1\" class=\"dataframe\">\n",
       "  <thead>\n",
       "    <tr style=\"text-align: right;\">\n",
       "      <th></th>\n",
       "      <th>Date</th>\n",
       "      <th>Oil_Price</th>\n",
       "    </tr>\n",
       "  </thead>\n",
       "  <tbody>\n",
       "  </tbody>\n",
       "</table>\n",
       "</div>"
      ],
      "text/plain": [
       "Empty DataFrame\n",
       "Columns: [Date, Oil_Price]\n",
       "Index: []"
      ]
     },
     "execution_count": 16,
     "metadata": {},
     "output_type": "execute_result"
    }
   ],
   "source": [
    "pricelist"
   ]
  }
 ],
 "metadata": {
  "interpreter": {
   "hash": "643779d2ca1c60755793afdf25a4d766ec262dfc9bd75a5a0f0bf6a7067038f4"
  },
  "kernelspec": {
   "display_name": "Python 3.8.0 ('tensor')",
   "language": "python",
   "name": "python3"
  },
  "language_info": {
   "codemirror_mode": {
    "name": "ipython",
    "version": 3
   },
   "file_extension": ".py",
   "mimetype": "text/x-python",
   "name": "python",
   "nbconvert_exporter": "python",
   "pygments_lexer": "ipython3",
   "version": "3.8.0"
  },
  "orig_nbformat": 4
 },
 "nbformat": 4,
 "nbformat_minor": 2
}
